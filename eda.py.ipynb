{
 "cells": [
  {
   "cell_type": "code",
   "execution_count": 13,
   "id": "e2b8aab0",
   "metadata": {},
   "outputs": [],
   "source": [
    "import pandas as pd\n",
    "import numpy as np\n",
    "import streamlit as st\n",
    "import seaborn as sns\n",
    "from pandas_profiling import profile_report\n",
    "from streamlit_pandas_profiling import st_profile_report"
   ]
  },
  {
   "cell_type": "code",
   "execution_count": 14,
   "id": "4e3c43db",
   "metadata": {},
   "outputs": [
    {
     "data": {
      "text/plain": [
       "DeltaGenerator(_root_container=0, _provided_cursor=None, _parent=None, _block_type=None, _form_data=None)"
      ]
     },
     "execution_count": 14,
     "metadata": {},
     "output_type": "execute_result"
    }
   ],
   "source": [
    "#webapp ka title\n",
    "st.markdown(''' \n",
    " #**Exploratory Data Analysis web application**\n",
    " This app is developed by condanics youtube channel called **EDA**\n",
    " ''')"
   ]
  },
  {
   "cell_type": "code",
   "execution_count": 15,
   "id": "2aac4d9d",
   "metadata": {},
   "outputs": [],
   "source": [
    "#how to upload a file from pc\n",
    "with st.sidebar.header(\"Upload Your dataset(.csv)\"):\n",
    "    uploaded_file =st.sidebar.file_uploader(\"upload your file\",type=['csv'])\n",
    "    df=sns.load_dataset('titanic')\n",
    "    st.sidebar.markdown(\"[Example CSV file](df)\")"
   ]
  },
  {
   "cell_type": "code",
   "execution_count": 16,
   "id": "cac63a89",
   "metadata": {},
   "outputs": [
    {
     "data": {
      "text/plain": [
       "DeltaGenerator(_root_container=1, _provided_cursor=None, _parent=DeltaGenerator(_root_container=0, _provided_cursor=None, _parent=None, _block_type=None, _form_data=None), _block_type=None, _form_data=None)"
      ]
     },
     "execution_count": 16,
     "metadata": {},
     "output_type": "execute_result"
    }
   ],
   "source": [
    "st.sidebar.markdown(\"[Example CSV file](https://github.com/biocore/American-Gut)\")"
   ]
  },
  {
   "cell_type": "code",
   "execution_count": 25,
   "id": "ea4f9f03",
   "metadata": {},
   "outputs": [],
   "source": [
    "#profiling report for pandas\n",
    "if uploaded_file is not None:\n",
    "    \n",
    "    def load_csv():\n",
    "        csv=pd.read_csv(uploaded_file)\n",
    "        return csv\n",
    "    \n",
    "    df=load_csv()\n",
    "    pr=profileReport(df,exlorative=True)\n",
    "    st.header('**Input DF**')\n",
    "    st.write(df)\n",
    "    st.write('---')\n",
    "    st.header('**Profiling report with pandas**')\n",
    "    st_profile_report(pr)\n",
    "else:\n",
    "    st.info('Awaiting for CSV file')\n",
    "    if st.button('Press to use eample data'):\n",
    "    \n",
    "    #example dataset\n",
    "    \n",
    "      def load_data():\n",
    "        a=pd.DataFrame(np.random.rand(100,5),\n",
    "                      columns=['age','banana','codanics','Deutchland','Ear'])\n",
    "        return a\n",
    "      df=load_data()\n",
    "      pr=profileReport(df,exlorative=True)\n",
    "      st.header('**Input DF**')\n",
    "      st.write(df)\n",
    "      st.write('---')\n",
    "      st.header('**Profiling report with pandas**')\n",
    "      st_profile_report(pr)"
   ]
  },
  {
   "cell_type": "code",
   "execution_count": null,
   "id": "5b766d80",
   "metadata": {},
   "outputs": [],
   "source": []
  },
  {
   "cell_type": "code",
   "execution_count": null,
   "id": "29b7d221",
   "metadata": {},
   "outputs": [],
   "source": []
  }
 ],
 "metadata": {
  "kernelspec": {
   "display_name": "Python 3 (ipykernel)",
   "language": "python",
   "name": "python3"
  },
  "language_info": {
   "codemirror_mode": {
    "name": "ipython",
    "version": 3
   },
   "file_extension": ".py",
   "mimetype": "text/x-python",
   "name": "python",
   "nbconvert_exporter": "python",
   "pygments_lexer": "ipython3",
   "version": "3.10.3"
  }
 },
 "nbformat": 4,
 "nbformat_minor": 5
}
